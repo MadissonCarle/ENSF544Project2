{
 "cells": [
  {
   "cell_type": "code",
   "execution_count": 10,
   "metadata": {},
   "outputs": [],
   "source": [
    "from credentials import *\n",
    "import tweepy\n",
    "import datetime\n",
    "\n",
    "consumer_key = 'xxx'\n",
    "consumer_secret = 'xxx'\n",
    "access_token = 'xxx'\n",
    "access_token_secret = 'xxx'\n",
    "\n",
    "#this function accounts for tweets posted on weekends\n",
    "def set_sunday(date):\n",
    "   inc = 0\n",
    "   if date.weekday() == 4:\n",
    "      inc = 2\n",
    "   if date.weekday() == 5:\n",
    "      inc = 1\n",
    "   if inc != 0:\n",
    "      return date + datetime.timedelta(days=inc)\n",
    "   else:\n",
    "      return date\n",
    "\n",
    "def next_day(date):\n",
    "   return date + datetime.timedelta(days=1)\n"
   ]
  },
  {
   "cell_type": "markdown",
   "metadata": {},
   "source": [
    "Gather all of the old twitter data from elon musks tweets (2016-2022)"
   ]
  },
  {
   "cell_type": "code",
   "execution_count": 11,
   "metadata": {},
   "outputs": [],
   "source": [
    "import pandas as pd\n",
    "\n",
    "tweets_old = pd.read_csv('TweetsElonMusk.csv', parse_dates=['date'])\n",
    "tweets_old = tweets_old[['date','retweets_count','likes_count','tweet']]\n",
    "\n",
    "# redate here\n",
    "tweets_old['date'] = tweets_old['date'].apply(set_sunday)\n",
    "tweets_old['date'] = tweets_old['date'].apply(next_day)\n",
    "\n",
    "tweets_old = tweets_old.groupby('date').agg(list)\n",
    "tweets_old.to_csv('tweets_old.csv')"
   ]
  },
  {
   "cell_type": "markdown",
   "metadata": {},
   "source": [
    "Scrape newest twitter data from Tweepy API"
   ]
  },
  {
   "cell_type": "code",
   "execution_count": 12,
   "metadata": {},
   "outputs": [],
   "source": [
    "auth = tweepy.OAuthHandler(consumer_key, consumer_secret)\n",
    "auth.set_access_token(access_token, access_token_secret)\n",
    "api = tweepy.API(auth)\n",
    "\n",
    "d = []\n",
    "r = []\n",
    "l = []\n",
    "t = []\n",
    "for tweet in tweepy.Cursor(api.user_timeline, tweet_mode='extended',include_rts=False, screen_name='elonmusk' ).items():   \n",
    "  d.append(tweet.created_at.date())\n",
    "  r.append(tweet.retweet_count)\n",
    "  l.append(tweet.favorite_count)\n",
    "  t.append(tweet.full_text)\n",
    "\n",
    "tweets_new = pd.DataFrame(list(zip(d, r, l, t)), \n",
    "  columns=['date','retweets_count','likes_count','tweet'])\n",
    "\n",
    "# do re date here\n",
    "tweets_new['date'] = tweets_new['date'].apply(set_sunday)\n",
    "tweets_new['date'] = tweets_new['date'].apply(next_day)\n",
    "\n",
    "tweets_new = tweets_new.groupby('date').agg(list)\n",
    "\n",
    "tweets_new = tweets_new.reset_index()\n",
    "tweets_new.date = pd.to_datetime(tweets_new.date)\n",
    "tweets_new.to_csv('tweets_new.csv', index=False)\n"
   ]
  },
  {
   "cell_type": "markdown",
   "metadata": {},
   "source": [
    "Gather yahoo finance data on the stock"
   ]
  },
  {
   "cell_type": "code",
   "execution_count": 13,
   "metadata": {},
   "outputs": [],
   "source": [
    "import yfinance as yf\n",
    "\n",
    "def date(date):\n",
    "    return date.date()\n",
    "\n",
    "tsla = yf.Ticker('tsla')\n",
    "stock = tsla.history(interval='1d', start='2016-09-01', end='2022-12-02')[['Close']]\n",
    "stock.reset_index(inplace=True)\n",
    "stock.columns = ['date','close']\n",
    "stock['date'] = stock['date'].apply(date)\n",
    "stock.date = pd.to_datetime(stock.date)\n",
    "stock.to_csv('stockprice.csv', index=False)"
   ]
  },
  {
   "cell_type": "markdown",
   "metadata": {},
   "source": [
    "Merge all of the tables together"
   ]
  },
  {
   "cell_type": "code",
   "execution_count": 14,
   "metadata": {},
   "outputs": [
    {
     "name": "stderr",
     "output_type": "stream",
     "text": [
      "C:\\Users\\hunte\\AppData\\Local\\Temp\\ipykernel_16776\\3995508328.py:9: SettingWithCopyWarning: \n",
      "A value is trying to be set on a copy of a slice from a DataFrame\n",
      "\n",
      "See the caveats in the documentation: https://pandas.pydata.org/pandas-docs/stable/user_guide/indexing.html#returning-a-view-versus-a-copy\n",
      "  result['dif'][0] = 14.13 # 2016-08-31\n"
     ]
    }
   ],
   "source": [
    "result_old = pd.merge(stock, tweets_old, how='left', on = 'date')\n",
    "result_new = pd.merge(stock, tweets_new, how='left', on = 'date')\n",
    "\n",
    "result = pd.concat([result_old, result_new])\n",
    "\n",
    "result = result.dropna()\n",
    "\n",
    "result['dif'] = result.close.shift(1)\n",
    "result['dif'][0] = 14.13 # 2016-08-31\n",
    "result['dif'] = result['close'] - result['dif']\n",
    "result.columns = ['Date', 'Close', 'Retweets', 'Likes', 'Tweets', 'Dif']\n",
    "result = result[['Date', 'Close', 'Dif', 'Retweets', 'Likes', 'Tweets']]\n",
    "result.to_csv('results.csv', index=False)"
   ]
  }
 ],
 "metadata": {
  "kernelspec": {
   "display_name": "Python 3.10.8 64-bit",
   "language": "python",
   "name": "python3"
  },
  "language_info": {
   "codemirror_mode": {
    "name": "ipython",
    "version": 3
   },
   "file_extension": ".py",
   "mimetype": "text/x-python",
   "name": "python",
   "nbconvert_exporter": "python",
   "pygments_lexer": "ipython3",
   "version": "3.10.8"
  },
  "orig_nbformat": 4,
  "vscode": {
   "interpreter": {
    "hash": "e7af9e86c3681899aba80f8b0067881b136bce65c27e78bb175258adc8d4bb5d"
   }
  }
 },
 "nbformat": 4,
 "nbformat_minor": 2
}
